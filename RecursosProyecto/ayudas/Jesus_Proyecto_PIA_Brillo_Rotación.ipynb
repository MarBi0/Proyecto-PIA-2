{
 "cells": [
  {
   "cell_type": "code",
   "execution_count": 133,
   "id": "d9642371",
   "metadata": {},
   "outputs": [],
   "source": [
    "\n",
    "import numpy as np\n",
    "import pandas as pd\n",
    "import copy\n",
    "import random\n",
    "import matplotlib.pyplot as plt\n",
    "keyfacial_df_copy= pd.read_csv('C://Users//Jesus//Desktop//CursoIA//TIMBIRICHE//ProyectoIA//datasets_proyectos//datasets_proyectos//puntos_faciales//data.csv')\n",
    "\n",
    "\n",
    "# Definir una función para convertir la cadena de caracteres a una matriz numpy con forma (96, 96)\n",
    "def string_to_array(image_string):\n",
    "    image_array = np.fromstring(image_string, dtype=int, sep=' ')\n",
    "    return image_array.reshape(96, 96)\n",
    "# Aplicar la función a cada elemento de la columna 'Image' usando apply\n",
    "keyfacial_df_copy['Image'] = keyfacial_df_copy['Image'].apply(string_to_array)\n",
    "\n",
    "# 1. Voltear horizontalmente las imágenes\n",
    "# Dado que estamos volteando horizontalmente, los valores de la coordenada y serían los mismos.\n",
    "# Solo cambiarían los valores de la coordenada x, todo lo que tenemos que hacer es restar nuestros valores iniciales de la coordenada x del ancho de la imagen (96)\n",
    "def rotar_espejo(imagen):\n",
    "    # Voltea la imagen en modo espejo horizontalmente\n",
    "    imagen_volteada = np.fliplr(imagen)\n",
    "    return imagen_volteada\n",
    "\n",
    "\n",
    "def rotar_imagen(imagen):\n",
    "    # Voltea la imagen en modo espejo\n",
    "    image_mirror = cv2.flip(imagen, 1)\n",
    "    return image_mirror\n",
    "\n",
    "# 3. Aumentar aleatoriamente el brillo de las imágenes\n",
    "def aumentar_brillo_dataset(keyfacial_df_copy):\n",
    "    df_copy = keyfacial_df_copy.copy()\n",
    "    def aumentar_brillo(imagen):\n",
    "        factor_brillo = random.uniform(1.5, 2)\n",
    "        imagen_aumentada = np.clip(imagen * factor_brillo, 0.0, 255.0)\n",
    "        return imagen_aumentada\n",
    "    df_copy['Image'] = df_copy['Image'].apply(aumentar_brillo)\n",
    "    return df_copy\n",
    "\n",
    "\n",
    "# 4. Decrementar aleatoriamente el brillo de las imágenes\n",
    "def decrementar_brillo_dataset(keyfacial_df_copy):\n",
    "    df_copy = keyfacial_df_copy.copy()\n",
    "    def decrementar_brillo(imagen):\n",
    "        factor_brillo = random.uniform(0, 1)\n",
    "        imagen_decrementada = np.clip(imagen * factor_brillo, 0.0, 255.0)\n",
    "        return imagen_decrementada\n",
    "    df_copy['Image'] = df_copy['Image'].apply(decrementar_brillo)\n",
    "    return df_copy\n",
    "\n",
    "\n",
    "# 5. Agregar ruido\n",
    "def agregar_ruido_dataset(keyfacial_df_copy):\n",
    "    df_copy = keyfacial_df_copy.copy()\n",
    "    def agregar_ruido(img):\n",
    "        noise = np.random.randint(low=0, high=255, size=img.shape)\n",
    "        factor = 0.25\n",
    "        img_with_noise = img + (noise * factor)\n",
    "        img_with_noise = np.clip(img_with_noise, 0, 255)\n",
    "        return img_with_noise\n",
    "    df_copy['Image'] = df_copy['Image'].apply(agregar_ruido)\n",
    "    return df_copy\n"
   ]
  },
  {
   "cell_type": "code",
   "execution_count": 134,
   "id": "b26d308e",
   "metadata": {},
   "outputs": [
    {
     "name": "stdout",
     "output_type": "stream",
     "text": [
      "<class 'numpy.ndarray'>\n",
      "[[138 124 107 ... 110 115  91]\n",
      " [128 110 112 ... 106 117  97]\n",
      " [124 112  91 ... 113 117 111]\n",
      " ...\n",
      " [200 208 210 ... 135 129 115]\n",
      " [212 215 222 ... 127 134 137]\n",
      " [221 222 225 ... 137 134 132]]\n"
     ]
    }
   ],
   "source": [
    "# 1. Prueba horizontal -- FUNCIONA\n",
    "# Ejemplo de uso\n",
    "random_row = keyfacial_df_copy.sample()\n",
    "imagen = random_row['Image'].values[0]\n",
    "print(type(imagen))\n",
    "print (imagen)\n",
    "imgro = rotar_espejo(imagen)"
   ]
  },
  {
   "cell_type": "code",
   "execution_count": 116,
   "id": "8e79dc49",
   "metadata": {},
   "outputs": [],
   "source": [
    "# 2. Prueba rotar aleatorio -- FUNCIONA\n",
    "df_copyr= keyfacial_df_copy\n",
    "random_row = df_copyr.sample()\n",
    "imgr = random_row['Image'].values[0]\n",
    "imgr =rotar_imagen(imgr)"
   ]
  },
  {
   "cell_type": "code",
   "execution_count": 3,
   "id": "8609f0e4",
   "metadata": {},
   "outputs": [],
   "source": [
    "# 3. Aumentar el brillo -- FUNCIONA\n",
    "df_copyab=aumentar_brillo_dataset(keyfacial_df_copy)\n",
    "random_row = df_copyab.sample()\n",
    "imgab = random_row['Image'].values[0]"
   ]
  },
  {
   "cell_type": "code",
   "execution_count": 11,
   "id": "8451ce2c",
   "metadata": {},
   "outputs": [],
   "source": [
    "# 4. Decrementar el brillo -- FUNCIONA\n",
    "df_copydb=decrementar_brillo_dataset(keyfacial_df_copy)\n",
    "\n",
    "random_row = df_copydb.sample()\n",
    "imgdb = random_row['Image'].values[0]"
   ]
  },
  {
   "cell_type": "code",
   "execution_count": 54,
   "id": "78cc1156",
   "metadata": {},
   "outputs": [],
   "source": [
    "# 5. Imagen borrosa -- FUNCIONA\n",
    "df_copyb = agregar_ruido_dataset(keyfacial_df_copy)\n",
    "random_row = keyfacial_df_copy.sample()\n",
    "imgb = random_row['Image'].values[0]"
   ]
  },
  {
   "cell_type": "code",
   "execution_count": 135,
   "id": "22ef8630",
   "metadata": {},
   "outputs": [
    {
     "data": {
      "image/png": "[encoded data removed]",
      "text/plain": [
       "<Figure size 640x480 with 1 Axes>"
      ]
     },
     "metadata": {},
     "output_type": "display_data"
    }
   ],
   "source": [
    "plt.imshow(imgro, cmap='gray')\n",
    "plt.axis('off')  # Ocultar ejes\n",
    "plt.show()"
   ]
  }
 ],
 "metadata": {
  "kernelspec": {
   "display_name": "Python 3 (ipykernel)",
   "language": "python",
   "name": "python3"
  },
  "language_info": {
   "codemirror_mode": {
    "name": "ipython",
    "version": 3
   },
   "file_extension": ".py",
   "mimetype": "text/x-python",
   "name": "python",
   "nbconvert_exporter": "python",
   "pygments_lexer": "ipython3",
   "version": "3.11.5"
  }
 },
 "nbformat": 4,
 "nbformat_minor": 5
}
